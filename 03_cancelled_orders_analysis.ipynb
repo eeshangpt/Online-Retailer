{
 "cells": [
  {
   "cell_type": "code",
   "execution_count": 1,
   "metadata": {},
   "outputs": [],
   "source": [
    "import pandas as pd\n",
    "import numpy as np\n",
    "import matplotlib.pyplot as plt"
   ]
  },
  {
   "cell_type": "code",
   "execution_count": 16,
   "metadata": {},
   "outputs": [],
   "source": [
    "cancelled_order_df = pd.read_pickle(\"./cancelled_orders.pkl\")\n",
    "retail_df = pd.read_pickle(\"./retail_df.pkl\")"
   ]
  },
  {
   "cell_type": "code",
   "execution_count": 3,
   "metadata": {},
   "outputs": [
    {
     "data": {
      "text/html": [
       "<div>\n",
       "<style scoped>\n",
       "    .dataframe tbody tr th:only-of-type {\n",
       "        vertical-align: middle;\n",
       "    }\n",
       "\n",
       "    .dataframe tbody tr th {\n",
       "        vertical-align: top;\n",
       "    }\n",
       "\n",
       "    .dataframe thead th {\n",
       "        text-align: right;\n",
       "    }\n",
       "</style>\n",
       "<table border=\"1\" class=\"dataframe\">\n",
       "  <thead>\n",
       "    <tr style=\"text-align: right;\">\n",
       "      <th></th>\n",
       "      <th>InvoiceNo</th>\n",
       "      <th>StockCode</th>\n",
       "      <th>Description</th>\n",
       "      <th>Quantity</th>\n",
       "      <th>InvoiceDate</th>\n",
       "      <th>UnitPrice</th>\n",
       "      <th>CustomerID</th>\n",
       "      <th>Country</th>\n",
       "      <th>CancelledOrder</th>\n",
       "    </tr>\n",
       "  </thead>\n",
       "  <tbody>\n",
       "    <tr>\n",
       "      <th>141</th>\n",
       "      <td>C536379</td>\n",
       "      <td>D</td>\n",
       "      <td>Discount</td>\n",
       "      <td>1</td>\n",
       "      <td>2010-12-01 09:41:00</td>\n",
       "      <td>27.50</td>\n",
       "      <td>14527.0</td>\n",
       "      <td>United Kingdom</td>\n",
       "      <td>True</td>\n",
       "    </tr>\n",
       "    <tr>\n",
       "      <th>154</th>\n",
       "      <td>C536383</td>\n",
       "      <td>35004C</td>\n",
       "      <td>SET OF 3 COLOURED  FLYING DUCKS</td>\n",
       "      <td>1</td>\n",
       "      <td>2010-12-01 09:49:00</td>\n",
       "      <td>4.65</td>\n",
       "      <td>15311.0</td>\n",
       "      <td>United Kingdom</td>\n",
       "      <td>True</td>\n",
       "    </tr>\n",
       "    <tr>\n",
       "      <th>235</th>\n",
       "      <td>C536391</td>\n",
       "      <td>22556</td>\n",
       "      <td>PLASTERS IN TIN CIRCUS PARADE</td>\n",
       "      <td>12</td>\n",
       "      <td>2010-12-01 10:24:00</td>\n",
       "      <td>1.65</td>\n",
       "      <td>17548.0</td>\n",
       "      <td>United Kingdom</td>\n",
       "      <td>True</td>\n",
       "    </tr>\n",
       "    <tr>\n",
       "      <th>236</th>\n",
       "      <td>C536391</td>\n",
       "      <td>21984</td>\n",
       "      <td>PACK OF 12 PINK PAISLEY TISSUES</td>\n",
       "      <td>24</td>\n",
       "      <td>2010-12-01 10:24:00</td>\n",
       "      <td>0.29</td>\n",
       "      <td>17548.0</td>\n",
       "      <td>United Kingdom</td>\n",
       "      <td>True</td>\n",
       "    </tr>\n",
       "    <tr>\n",
       "      <th>237</th>\n",
       "      <td>C536391</td>\n",
       "      <td>21983</td>\n",
       "      <td>PACK OF 12 BLUE PAISLEY TISSUES</td>\n",
       "      <td>24</td>\n",
       "      <td>2010-12-01 10:24:00</td>\n",
       "      <td>0.29</td>\n",
       "      <td>17548.0</td>\n",
       "      <td>United Kingdom</td>\n",
       "      <td>True</td>\n",
       "    </tr>\n",
       "  </tbody>\n",
       "</table>\n",
       "</div>"
      ],
      "text/plain": [
       "    InvoiceNo StockCode                       Description  Quantity  \\\n",
       "141   C536379         D                          Discount         1   \n",
       "154   C536383    35004C   SET OF 3 COLOURED  FLYING DUCKS         1   \n",
       "235   C536391     22556    PLASTERS IN TIN CIRCUS PARADE         12   \n",
       "236   C536391     21984  PACK OF 12 PINK PAISLEY TISSUES         24   \n",
       "237   C536391     21983  PACK OF 12 BLUE PAISLEY TISSUES         24   \n",
       "\n",
       "            InvoiceDate  UnitPrice  CustomerID         Country  CancelledOrder  \n",
       "141 2010-12-01 09:41:00      27.50     14527.0  United Kingdom            True  \n",
       "154 2010-12-01 09:49:00       4.65     15311.0  United Kingdom            True  \n",
       "235 2010-12-01 10:24:00       1.65     17548.0  United Kingdom            True  \n",
       "236 2010-12-01 10:24:00       0.29     17548.0  United Kingdom            True  \n",
       "237 2010-12-01 10:24:00       0.29     17548.0  United Kingdom            True  "
      ]
     },
     "execution_count": 3,
     "metadata": {},
     "output_type": "execute_result"
    }
   ],
   "source": [
    "cancelled_order_df.head()"
   ]
  },
  {
   "cell_type": "code",
   "execution_count": 4,
   "metadata": {},
   "outputs": [],
   "source": [
    "cancelled_df = cancelled_order_df.drop(['CancelledOrder'], axis = 1)"
   ]
  },
  {
   "cell_type": "markdown",
   "metadata": {},
   "source": [
    "Missing Value Anaysis of the cancelled orders."
   ]
  },
  {
   "cell_type": "code",
   "execution_count": 5,
   "metadata": {},
   "outputs": [
    {
     "name": "stdout",
     "output_type": "stream",
     "text": [
      "<class 'pandas.core.frame.DataFrame'>\n",
      "Int64Index: 9288 entries, 141 to 541717\n",
      "Data columns (total 8 columns):\n",
      "InvoiceNo      9288 non-null object\n",
      "StockCode      9288 non-null object\n",
      "Description    9288 non-null object\n",
      "Quantity       9288 non-null int64\n",
      "InvoiceDate    9288 non-null datetime64[ns]\n",
      "UnitPrice      9288 non-null float64\n",
      "CustomerID     8905 non-null float64\n",
      "Country        9288 non-null object\n",
      "dtypes: datetime64[ns](1), float64(2), int64(1), object(4)\n",
      "memory usage: 653.1+ KB\n"
     ]
    }
   ],
   "source": [
    "cancelled_df.info()"
   ]
  },
  {
   "cell_type": "code",
   "execution_count": 6,
   "metadata": {},
   "outputs": [
    {
     "name": "stdout",
     "output_type": "stream",
     "text": [
      "Missing values in the field : InvoiceNo 0\n",
      "Missing values in the field : StockCode 0\n",
      "Missing values in the field : Description 0\n",
      "Missing values in the field : Quantity 0\n",
      "Missing values in the field : InvoiceDate 0\n",
      "Missing values in the field : UnitPrice 0\n",
      "Missing values in the field : CustomerID 383\n",
      "Missing values in the field : Country 0\n"
     ]
    }
   ],
   "source": [
    "for i in cancelled_df:\n",
    "    print(\"Missing values in the field : {}\".format(i), sum(cancelled_df[i].isna()))"
   ]
  },
  {
   "cell_type": "code",
   "execution_count": 7,
   "metadata": {},
   "outputs": [],
   "source": [
    "## Filling the missing value in the Customer Id field with 0.\n",
    "cancelled_df.CustomerID.fillna(0, inplace = True)\n",
    "## Converting them to integer\n",
    "cancelled_df.CustomerID = cancelled_df.CustomerID.astype('int64')"
   ]
  },
  {
   "cell_type": "code",
   "execution_count": 8,
   "metadata": {},
   "outputs": [
    {
     "name": "stdout",
     "output_type": "stream",
     "text": [
      "<class 'pandas.core.frame.DataFrame'>\n",
      "Int64Index: 9288 entries, 141 to 541717\n",
      "Data columns (total 8 columns):\n",
      "InvoiceNo      9288 non-null object\n",
      "StockCode      9288 non-null object\n",
      "Description    9288 non-null object\n",
      "Quantity       9288 non-null int64\n",
      "InvoiceDate    9288 non-null datetime64[ns]\n",
      "UnitPrice      9288 non-null float64\n",
      "CustomerID     9288 non-null int64\n",
      "Country        9288 non-null object\n",
      "dtypes: datetime64[ns](1), float64(1), int64(2), object(4)\n",
      "memory usage: 653.1+ KB\n"
     ]
    }
   ],
   "source": [
    "cancelled_df.info()"
   ]
  },
  {
   "cell_type": "code",
   "execution_count": 22,
   "metadata": {},
   "outputs": [
    {
     "name": "stdout",
     "output_type": "stream",
     "text": [
      "Total number of orders :\t25900\n"
     ]
    }
   ],
   "source": [
    "print(\"Total number of orders :\\t{}\".format(retail_df.InvoiceNo.nunique()))"
   ]
  },
  {
   "cell_type": "code",
   "execution_count": 23,
   "metadata": {},
   "outputs": [
    {
     "name": "stdout",
     "output_type": "stream",
     "text": [
      "Total number of cancelled orders :\t3836\n"
     ]
    }
   ],
   "source": [
    "print(\"Total number of cancelled orders :\\t{}\".format(cancelled_df.InvoiceNo.nunique()))"
   ]
  },
  {
   "cell_type": "code",
   "execution_count": 25,
   "metadata": {},
   "outputs": [
    {
     "name": "stdout",
     "output_type": "stream",
     "text": [
      "Percentage of orders cancelled :\t14.81081081081081%\n"
     ]
    }
   ],
   "source": [
    "print(\"Percentage of orders cancelled :\\t{}%\".format(cancelled_df.InvoiceNo.nunique() * 100 \n",
    "                                                    /retail_df.InvoiceNo.nunique()))"
   ]
  },
  {
   "cell_type": "code",
   "execution_count": 18,
   "metadata": {},
   "outputs": [
    {
     "data": {
      "text/plain": [
       "array(['United Kingdom', 'France', 'Australia', 'Netherlands', 'Germany',\n",
       "       'Norway', 'EIRE', 'Switzerland', 'Spain', 'Poland', 'Portugal',\n",
       "       'Italy', 'Belgium', 'Lithuania', 'Japan', 'Iceland',\n",
       "       'Channel Islands', 'Denmark', 'Cyprus', 'Sweden', 'Austria',\n",
       "       'Israel', 'Finland', 'Bahrain', 'Greece', 'Hong Kong', 'Singapore',\n",
       "       'Lebanon', 'United Arab Emirates', 'Saudi Arabia',\n",
       "       'Czech Republic', 'Canada', 'Unspecified', 'Brazil', 'USA',\n",
       "       'European Community', 'Malta', 'RSA'], dtype=object)"
      ]
     },
     "execution_count": 18,
     "metadata": {},
     "output_type": "execute_result"
    }
   ],
   "source": [
    "retail_df.Country.unique()"
   ]
  },
  {
   "cell_type": "code",
   "execution_count": 15,
   "metadata": {},
   "outputs": [
    {
     "data": {
      "text/plain": [
       "array(['United Kingdom', 'Germany', 'EIRE', 'Italy', 'France',\n",
       "       'Australia', 'Sweden', 'Portugal', 'Austria', 'Israel', 'Belgium',\n",
       "       'Bahrain', 'Spain', 'Japan', 'Channel Islands', 'Netherlands',\n",
       "       'Switzerland', 'Cyprus', 'Norway', 'Saudi Arabia', 'Hong Kong',\n",
       "       'Poland', 'Finland', 'Czech Republic', 'Singapore',\n",
       "       'European Community', 'Malta', 'Greece', 'Denmark', 'USA'],\n",
       "      dtype=object)"
      ]
     },
     "execution_count": 15,
     "metadata": {},
     "output_type": "execute_result"
    }
   ],
   "source": [
    "cancelled_df.Country.unique()"
   ]
  },
  {
   "cell_type": "code",
   "execution_count": 19,
   "metadata": {},
   "outputs": [
    {
     "name": "stdout",
     "output_type": "stream",
     "text": [
      "Lithuania\n",
      "Iceland\n",
      "Lebanon\n",
      "United Arab Emirates\n",
      "Canada\n",
      "Unspecified\n",
      "Brazil\n",
      "RSA\n"
     ]
    }
   ],
   "source": [
    "for i in retail_df.Country.unique():\n",
    "    if i not in cancelled_df.Country.unique():\n",
    "        print(i)"
   ]
  },
  {
   "cell_type": "code",
   "execution_count": 30,
   "metadata": {},
   "outputs": [
    {
     "data": {
      "text/plain": [
       "pandas.core.series.Series"
      ]
     },
     "execution_count": 30,
     "metadata": {},
     "output_type": "execute_result"
    }
   ],
   "source": [
    "type(retail_df.InvoiceNo.groupby(by = retail_df.Country).count())"
   ]
  },
  {
   "cell_type": "code",
   "execution_count": 29,
   "metadata": {},
   "outputs": [
    {
     "data": {
      "text/plain": [
       "pandas.core.series.Series"
      ]
     },
     "execution_count": 29,
     "metadata": {},
     "output_type": "execute_result"
    }
   ],
   "source": [
    "type(cancelled_df.InvoiceNo.groupby(by = retail_df.Country).count())"
   ]
  },
  {
   "cell_type": "code",
   "execution_count": null,
   "metadata": {},
   "outputs": [],
   "source": []
  }
 ],
 "metadata": {
  "kernelspec": {
   "display_name": "Python 3",
   "language": "python",
   "name": "python3"
  },
  "language_info": {
   "codemirror_mode": {
    "name": "ipython",
    "version": 3
   },
   "file_extension": ".py",
   "mimetype": "text/x-python",
   "name": "python",
   "nbconvert_exporter": "python",
   "pygments_lexer": "ipython3",
   "version": "3.5.2"
  }
 },
 "nbformat": 4,
 "nbformat_minor": 2
}
